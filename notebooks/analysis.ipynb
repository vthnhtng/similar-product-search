{
 "cells": [
  {
   "cell_type": "code",
   "execution_count": 11,
   "metadata": {},
   "outputs": [],
   "source": [
    "import os\n",
    "import pandas as pd\n",
    "from collections import Counter"
   ]
  },
  {
   "cell_type": "code",
   "execution_count": 10,
   "metadata": {},
   "outputs": [],
   "source": [
    "# File paths\n",
    "animal_names_path = \"../data/raw/animal_names.txt\"\n",
    "animal_image_path = \"../data/raw/animal_images\"\n",
    "animal_caption_path = \"../data/raw/animal_captions.csv\""
   ]
  },
  {
   "cell_type": "code",
   "execution_count": 9,
   "metadata": {},
   "outputs": [
    {
     "name": "stdout",
     "output_type": "stream",
     "text": [
      "Total animal names: 90\n"
     ]
    }
   ],
   "source": [
    "# Load animal names\n",
    "with open(animal_names_path, \"r\") as f:\n",
    "    animal_names = [line.strip() for line in f if line.strip()]\n",
    "print(f\"Total animal names: {len(animal_names)}\")"
   ]
  },
  {
   "cell_type": "code",
   "execution_count": 8,
   "metadata": {},
   "outputs": [
    {
     "name": "stdout",
     "output_type": "stream",
     "text": [
      "Total animal folders with images: 90\n",
      "Total images: 5400\n",
      "Top 5 animals with most images:\n",
      "[('antelope', 60), ('badger', 60), ('bat', 60), ('bear', 60), ('bee', 60)]\n"
     ]
    }
   ],
   "source": [
    "# Analyze image folders\n",
    "image_stats = {}\n",
    "total_images = 0\n",
    "for animal in os.listdir(animal_image_path):\n",
    "    animal_folder = os.path.join(animal_image_path, animal)\n",
    "    if os.path.isdir(animal_folder):\n",
    "        count = len([f for f in os.listdir(animal_folder) if f.lower().endswith(('.jpg', '.jpeg', '.png'))])\n",
    "        image_stats[animal] = count\n",
    "        total_images += count\n",
    "\n",
    "print(f\"Total animal folders with images: {len(image_stats)}\")\n",
    "print(f\"Total images: {total_images}\")\n",
    "print(\"Top 5 animals with most images:\")\n",
    "print(sorted(image_stats.items(), key=lambda x: x[1], reverse=True)[:5])"
   ]
  }
 ],
 "metadata": {
  "kernelspec": {
   "display_name": "Python 3",
   "language": "python",
   "name": "python3"
  },
  "language_info": {
   "codemirror_mode": {
    "name": "ipython",
    "version": 3
   },
   "file_extension": ".py",
   "mimetype": "text/x-python",
   "name": "python",
   "nbconvert_exporter": "python",
   "pygments_lexer": "ipython3",
   "version": "3.10.9"
  }
 },
 "nbformat": 4,
 "nbformat_minor": 2
}
